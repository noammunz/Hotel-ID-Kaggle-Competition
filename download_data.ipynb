{
 "cells": [
  {
   "cell_type": "code",
   "execution_count": 1,
   "metadata": {},
   "outputs": [],
   "source": [
    "import os "
   ]
  },
  {
   "cell_type": "code",
   "execution_count": 2,
   "metadata": {},
   "outputs": [],
   "source": [
    "kaggle_json_path = '/home/munz/.kaggle/kaggle.json'\n",
    "os.chmod(kaggle_json_path, 0o600)"
   ]
  },
  {
   "cell_type": "code",
   "execution_count": 3,
   "metadata": {},
   "outputs": [
    {
     "name": "stdout",
     "output_type": "stream",
     "text": [
      "Downloading hotel-id-2021-fgvc8.zip to /sise/home/munz/school/big_data\n",
      "100%|█████████████████████████████████████▉| 24.4G/24.4G [16:15<00:00, 25.0MB/s]\n",
      "100%|██████████████████████████████████████| 24.4G/24.4G [16:15<00:00, 26.9MB/s]\n"
     ]
    }
   ],
   "source": [
    "# Download the dataset\n",
    "!kaggle competitions download -c hotel-id-2021-fgvc8"
   ]
  },
  {
   "cell_type": "code",
   "execution_count": 4,
   "metadata": {},
   "outputs": [],
   "source": [
    "# unzip the data\n",
    "!unzip -q hotel-id-2021-fgvc8.zip -d data"
   ]
  }
 ],
 "metadata": {
  "kernelspec": {
   "display_name": "env1",
   "language": "python",
   "name": "python3"
  },
  "language_info": {
   "codemirror_mode": {
    "name": "ipython",
    "version": 3
   },
   "file_extension": ".py",
   "mimetype": "text/x-python",
   "name": "python",
   "nbconvert_exporter": "python",
   "pygments_lexer": "ipython3",
   "version": "3.11.4"
  }
 },
 "nbformat": 4,
 "nbformat_minor": 2
}
